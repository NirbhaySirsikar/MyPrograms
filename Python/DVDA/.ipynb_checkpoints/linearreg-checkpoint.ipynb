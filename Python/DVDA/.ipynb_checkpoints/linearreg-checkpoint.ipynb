{
 "cells": [
  {
   "cell_type": "code",
   "execution_count": 11,
   "id": "c4041aad",
   "metadata": {},
   "outputs": [],
   "source": [
    "import plotly\n",
    "import plotly.graph_objects as go\n",
    "import pandas as pd\n",
    "\n",
    "import numpy as np\n",
    "import matplotlib.pyplot as plt\n"
   ]
  },
  {
   "cell_type": "code",
   "execution_count": 12,
   "id": "9429de74",
   "metadata": {},
   "outputs": [
    {
     "name": "stdout",
     "output_type": "stream",
     "text": [
      "     Age  EstimatedSalary  Purchased\n",
      "0     19            19000          0\n",
      "1     35            20000          0\n",
      "2     26            43000          0\n",
      "3     27            57000          0\n",
      "4     19            76000          0\n",
      "..   ...              ...        ...\n",
      "395   46            41000          1\n",
      "396   51            23000          1\n",
      "397   50            20000          1\n",
      "398   36            33000          0\n",
      "399   49            36000          1\n",
      "\n",
      "[400 rows x 3 columns]\n"
     ]
    }
   ],
   "source": [
    "\n",
    "df=pd.read_csv(\"Social_Network_Ads.csv\")\n",
    "print(df)\n",
    "x=df['Age']\n",
    "y=df['EstimatedSalary']\n",
    "  "
   ]
  },
  {
   "cell_type": "code",
   "execution_count": 13,
   "id": "fa5c535d",
   "metadata": {},
   "outputs": [],
   "source": [
    "\n",
    "n = np.size(x)\n",
    "\n",
    "m_x = np.mean(x)\n",
    "m_y = np.mean(y)\n",
    "\n",
    "SS_xy = np.sum(y*x) - n*m_y*m_x\n",
    "SS_xx = np.sum(x*x) - n*m_x*m_x\n",
    "\n",
    "b_1 = SS_xy / SS_xx\n",
    "b_0 = m_y - b_1*m_x\n",
    "\n",
    "b= (b_0, b_1)\n"
   ]
  },
  {
   "cell_type": "code",
   "execution_count": 14,
   "id": "d9100b33",
   "metadata": {},
   "outputs": [
    {
     "data": {
      "image/png": "[encoded data removed]",
      "text/plain": [
       "<Figure size 432x288 with 1 Axes>"
      ]
     },
     "metadata": {
      "needs_background": "light"
     },
     "output_type": "display_data"
    }
   ],
   "source": [
    "\n",
    "plt.scatter(x, y, color = \"m\",\n",
    "        marker = \"o\", s = 30)\n",
    "\n",
    "y_pred = b[0] + b[1]*x\n",
    "\n",
    "plt.plot(x, y_pred, color = \"g\")\n",
    "\n",
    "plt.xlabel('Age')\n",
    "plt.ylabel('EstimatedSalary')\n",
    "\n",
    "plt.show()\n"
   ]
  },
  {
   "cell_type": "code",
   "execution_count": 15,
   "id": "129496e2",
   "metadata": {},
   "outputs": [],
   "source": [
    "\n",
    "# def main():\n",
    "# \t# observations / data\n",
    "# \t# x = np.array([0, 1, 2, 3, 4, 5, 6, 7, 8, 9])\n",
    "# \t# y = np.array([1, 3, 2, 5, 7, 8, 8, 9, 10, 12])\n",
    "\n",
    "# \t# estimating coefficients\n",
    "# \tb = estimate_coef(x, y)\n",
    "# \tprint(\"Estimated coefficients:\\nb_0 = {} \\\n",
    "# \t\t\\nb_1 = {}\".format(b[0], b[1]))\n",
    "\n",
    "# \t# plotting regression line\n",
    "# \tplot_regression_line(x, y, b)\n",
    "\n",
    "# if __name__ == \"__main__\":\n",
    "# \tmain()\n"
   ]
  },
  {
   "cell_type": "code",
   "execution_count": null,
   "id": "6d10b229",
   "metadata": {},
   "outputs": [],
   "source": []
  }
 ],
 "metadata": {
  "kernelspec": {
   "display_name": "Python 3 (ipykernel)",
   "language": "python",
   "name": "python3"
  },
  "language_info": {
   "codemirror_mode": {
    "name": "ipython",
    "version": 3
   },
   "file_extension": ".py",
   "mimetype": "text/x-python",
   "name": "python",
   "nbconvert_exporter": "python",
   "pygments_lexer": "ipython3",
   "version": "3.10.5"
  }
 },
 "nbformat": 4,
 "nbformat_minor": 5
}
