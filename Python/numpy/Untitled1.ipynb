{
  "cells": [
    {
      "cell_type": "code",
      "execution_count": 6,
      "metadata": {
        "colab": {
          "base_uri": "https://localhost:8080/"
        },
        "id": "O9KfLjUC2B9s",
        "outputId": "7afa84ac-3047-438d-942a-2c8615fc2754"
      },
      "outputs": [
        {
          "name": "stdout",
          "output_type": "stream",
          "text": [
            "[1 2 3]\n"
          ]
        }
      ],
      "source": [
        "import numpy as np\n",
        "a=np.array([1,2,3])\n",
        "print(a)"
      ]
    },
    {
      "cell_type": "code",
      "execution_count": 16,
      "metadata": {
        "colab": {
          "base_uri": "https://localhost:8080/"
        },
        "id": "VZTPFm0g2X-M",
        "outputId": "a9804feb-1501-4ebe-fc8c-ff359d4f33ce"
      },
      "outputs": [
        {
          "name": "stdout",
          "output_type": "stream",
          "text": [
            "0.0\n"
          ]
        }
      ],
      "source": [
        "from time import process_time\n",
        "python_list=[i for i in range(10000)]\n",
        "start_time=process_time()\n",
        "python_list=[i+5 for i in range(10000)]\n",
        "end_time=process_time()\n",
        "print(end_time-start_time)"
      ]
    },
    {
      "cell_type": "code",
      "execution_count": 23,
      "metadata": {
        "colab": {
          "base_uri": "https://localhost:8080/"
        },
        "id": "DAkoUEPA4jA1",
        "outputId": "a20a0c30-96a9-49c8-bd13-145d810c1222"
      },
      "outputs": [
        {
          "name": "stdout",
          "output_type": "stream",
          "text": [
            "0.0\n"
          ]
        }
      ],
      "source": [
        "from time import process_time\n",
        "a=np.array([i for i in range(10000)])\n",
        "start_time=process_time()\n",
        "a=a+5\n",
        "end_time=process_time()\n",
        "print(end_time-start_time)"
      ]
    },
    {
      "cell_type": "code",
      "execution_count": 51,
      "metadata": {
        "colab": {
          "base_uri": "https://localhost:8080/"
        },
        "id": "3_BBqbuk5NbX",
        "outputId": "92b82301-554a-470f-f94c-071de2a01f5e"
      },
      "outputs": [
        {
          "name": "stdout",
          "output_type": "stream",
          "text": [
            "4\n"
          ]
        }
      ],
      "source": [
        "a=np.array([(1,2,3),(5,6,7)])\n",
        "print(a.itemsize)"
      ]
    },
    {
      "cell_type": "code",
      "execution_count": 29,
      "metadata": {
        "colab": {
          "base_uri": "https://localhost:8080/"
        },
        "id": "3kMGoARs52CO",
        "outputId": "b904bdf6-7da3-431f-ba5d-3bd335ff2f29"
      },
      "outputs": [
        {
          "name": "stdout",
          "output_type": "stream",
          "text": [
            "int32\n"
          ]
        }
      ],
      "source": [
        "a=np.array([(1,2,3),(4,5,6)])\n",
        "print(a.dtype)"
      ]
    },
    {
      "cell_type": "code",
      "execution_count": 30,
      "metadata": {
        "colab": {
          "base_uri": "https://localhost:8080/"
        },
        "id": "Edr08nmk6mGp",
        "outputId": "62933d7f-a4f9-4f1a-eeb4-5a06ce7aa1ff"
      },
      "outputs": [
        {
          "name": "stdout",
          "output_type": "stream",
          "text": [
            "6\n",
            "(2, 3)\n"
          ]
        }
      ],
      "source": [
        "a=np.array([(1,2,3),(4,5,8)])\n",
        "print(a.size)\n",
        "print(a.shape)\n"
      ]
    },
    {
      "cell_type": "code",
      "execution_count": 31,
      "metadata": {
        "colab": {
          "base_uri": "https://localhost:8080/"
        },
        "id": "WrQygXpg66zr",
        "outputId": "914bef8b-50d2-49b3-f610-325a77956acf"
      },
      "outputs": [
        {
          "name": "stdout",
          "output_type": "stream",
          "text": [
            "[[ 8  9 10]\n",
            " [11 12 13]]\n",
            "[[ 8  9]\n",
            " [10 11]\n",
            " [12 13]]\n"
          ]
        }
      ],
      "source": [
        "a=np.array([(8,9,10),(11,12,13)])\n",
        "print(a)\n",
        "a=a.reshape(3,2)\n",
        "print(a)\n"
      ]
    },
    {
      "cell_type": "code",
      "execution_count": 13,
      "metadata": {
        "colab": {
          "base_uri": "https://localhost:8080/"
        },
        "id": "AGlysFJo7iSf",
        "outputId": "a13fca66-9790-450a-a373-1410a6146fd2"
      },
      "outputs": [
        {
          "name": "stdout",
          "output_type": "stream",
          "text": [
            "11\n"
          ]
        }
      ],
      "source": [
        "a=np.array([(1,2,3,4),(8,9,10,11)])\n",
        "print(a[1,3])\n"
      ]
    },
    {
      "cell_type": "code",
      "execution_count": 38,
      "metadata": {
        "colab": {
          "base_uri": "https://localhost:8080/"
        },
        "id": "KLa9eNoH75yD",
        "outputId": "9a8e9fc3-0151-40aa-d9d2-18ede90be8fb"
      },
      "outputs": [
        {
          "name": "stdout",
          "output_type": "stream",
          "text": [
            "[ 1  8 12]\n"
          ]
        }
      ],
      "source": [
        "a=np.array([(1,2,3,4),(8,9,10,11),(12,13,14,15)])\n",
        "print(a[0:,0])"
      ]
    },
    {
      "cell_type": "code",
      "execution_count": 49,
      "metadata": {
        "colab": {
          "base_uri": "https://localhost:8080/"
        },
        "id": "_P6fmwLo8Vn1",
        "outputId": "43841b57-d3be-4a54-ae3b-ef24ce810040"
      },
      "outputs": [
        {
          "name": "stdout",
          "output_type": "stream",
          "text": [
            "[ 2  9 13]\n"
          ]
        }
      ],
      "source": [
        "a=np.array([(1,2,3,4),(8,9,10,11),(12,13,14,15),(16,17,18,19)])\n",
        "print(a[0:3,1]) \n"
      ]
    },
    {
      "cell_type": "code",
      "execution_count": null,
      "metadata": {
        "colab": {
          "base_uri": "https://localhost:8080/"
        },
        "id": "u6zBzYRz82yM",
        "outputId": "4a240f2a-b150-4cec-fe37-33a482c1ee64"
      },
      "outputs": [
        {
          "name": "stdout",
          "output_type": "stream",
          "text": [
            "[10.         13.33333333 16.66666667 20.        ]\n"
          ]
        }
      ],
      "source": [
        "\n",
        "a=np.linspace(10,20,4)\n",
        "print(a)\n",
        "\n"
      ]
    },
    {
      "cell_type": "code",
      "execution_count": null,
      "metadata": {
        "colab": {
          "base_uri": "https://localhost:8080/"
        },
        "id": "mk4bozT59JXQ",
        "outputId": "5a95c623-61d1-45d1-911e-b3300c6f9b5f"
      },
      "outputs": [
        {
          "name": "stdout",
          "output_type": "stream",
          "text": [
            "[ 7 11 15 19]\n"
          ]
        }
      ],
      "source": [
        "\n",
        "a=np.arange(7,20,4)\n",
        "print(a)"
      ]
    },
    {
      "cell_type": "code",
      "execution_count": null,
      "metadata": {
        "colab": {
          "base_uri": "https://localhost:8080/"
        },
        "id": "njZKxGjx9eF6",
        "outputId": "c75408a5-e6cd-4f65-df69-3d59e64acf85"
      },
      "outputs": [
        {
          "name": "stdout",
          "output_type": "stream",
          "text": [
            "1\n"
          ]
        }
      ],
      "source": [
        "a=np.array([1,2,3])\n",
        "print(a.min())\n"
      ]
    },
    {
      "cell_type": "code",
      "execution_count": null,
      "metadata": {
        "colab": {
          "base_uri": "https://localhost:8080/"
        },
        "id": "smNfSUQu9wut",
        "outputId": "ba36c5bb-2d6b-4f16-ed7e-b0196491fe61"
      },
      "outputs": [
        {
          "name": "stdout",
          "output_type": "stream",
          "text": [
            "[ 6 18]\n"
          ]
        }
      ],
      "source": [
        "\n",
        "a=np.array([(1,2,3),(5,6,7)])\n",
        "print(a.sum(axis=1))\n"
      ]
    },
    {
      "cell_type": "code",
      "execution_count": null,
      "metadata": {
        "colab": {
          "base_uri": "https://localhost:8080/"
        },
        "id": "fNRzWl2X-ICy",
        "outputId": "1c07cc39-104e-410e-880d-8bde250855af"
      },
      "outputs": [
        {
          "name": "stdout",
          "output_type": "stream",
          "text": [
            "[[2.82842712 3.         3.16227766]\n",
            " [3.31662479 3.60555128 3.87298335]]\n"
          ]
        }
      ],
      "source": [
        "a=np.array([(8,9,10),(11,13,15)])\n",
        "print(np.sqrt(a))\n"
      ]
    },
    {
      "cell_type": "code",
      "execution_count": null,
      "metadata": {
        "colab": {
          "base_uri": "https://localhost:8080/"
        },
        "id": "1TUVRCwC-qX3",
        "outputId": "b34166ee-50f4-475e-cac6-14e38001cb6e"
      },
      "outputs": [
        {
          "name": "stdout",
          "output_type": "stream",
          "text": [
            "2.3804761428476167\n"
          ]
        }
      ],
      "source": [
        "a=np.array([(8,9,10),(11,13,15)])\n",
        "print(np.std(a))"
      ]
    },
    {
      "cell_type": "code",
      "execution_count": null,
      "metadata": {
        "id": "C9Giz6l_-zmC"
      },
      "outputs": [],
      "source": []
    },
    {
      "cell_type": "code",
      "execution_count": null,
      "metadata": {
        "colab": {
          "base_uri": "https://localhost:8080/"
        },
        "id": "eJYXTxUD-_tc",
        "outputId": "5e069d31-bde4-4fd6-85f4-7adbe32554fa"
      },
      "outputs": [
        {
          "name": "stdout",
          "output_type": "stream",
          "text": [
            "11.0\n"
          ]
        }
      ],
      "source": [
        "a=np.array([(8,9,10),(11,13,15)])\n",
        "print(np.mean(a))"
      ]
    },
    {
      "cell_type": "code",
      "execution_count": null,
      "metadata": {
        "id": "S_D2ovsD_CNu"
      },
      "outputs": [],
      "source": []
    },
    {
      "cell_type": "code",
      "execution_count": null,
      "metadata": {
        "colab": {
          "base_uri": "https://localhost:8080/"
        },
        "id": "AD_PoP8-_Ojn",
        "outputId": "87561ad1-135b-491d-9737-45dd83f0f2df"
      },
      "outputs": [
        {
          "name": "stdout",
          "output_type": "stream",
          "text": [
            "[[1. 2.]\n",
            " [2. 4.]]\n"
          ]
        }
      ],
      "source": [
        "a=np.array([(8,9,10),(11,13,15)])\n",
        "print(np.cov(a))"
      ]
    },
    {
      "cell_type": "code",
      "execution_count": null,
      "metadata": {
        "id": "BspCyVkw_Qsc"
      },
      "outputs": [],
      "source": []
    },
    {
      "cell_type": "code",
      "execution_count": null,
      "metadata": {
        "colab": {
          "base_uri": "https://localhost:8080/"
        },
        "id": "1QwFxf4Q_b_M",
        "outputId": "fbef454b-3a58-4aed-83b6-5d63422ca7ce"
      },
      "outputs": [
        {
          "name": "stdout",
          "output_type": "stream",
          "text": [
            "[[12 14 16]\n",
            " [19 23 27]]\n",
            "[[4 4 4]\n",
            " [3 3 3]]\n",
            "[[ 32  45  60]\n",
            " [ 88 130 180]]\n"
          ]
        }
      ],
      "source": [
        "a=np.array([(8,9,10),(11,13,15)])\n",
        "b=np.array([(4,5,6),(8,10,12)])\n",
        "print(a+b)\n",
        "print(a-b)\n",
        "print(a*b)\n"
      ]
    },
    {
      "cell_type": "code",
      "execution_count": null,
      "metadata": {
        "colab": {
          "base_uri": "https://localhost:8080/"
        },
        "id": "IVZ_l9P8_ptQ",
        "outputId": "e8129e53-e378-46ce-b2e6-28e13f6a204a"
      },
      "outputs": [
        {
          "name": "stdout",
          "output_type": "stream",
          "text": [
            "[[ 8  9 10]\n",
            " [11 13 15]\n",
            " [ 4  5  6]\n",
            " [ 8 10 12]]\n"
          ]
        }
      ],
      "source": [
        "a=np.array([(8,9,10),(11,13,15)])\n",
        "b=np.array([(4,5,6),(8,10,12)])\n",
        "print(np.vstack((a,b)))"
      ]
    },
    {
      "cell_type": "code",
      "execution_count": null,
      "metadata": {
        "colab": {
          "base_uri": "https://localhost:8080/"
        },
        "id": "HzHM79HzAC_f",
        "outputId": "ff6a4e5e-3b3f-4ddf-f6a8-5fa2275b480a"
      },
      "outputs": [
        {
          "name": "stdout",
          "output_type": "stream",
          "text": [
            "[[ 8  9 10  4  5  6]\n",
            " [11 13 15  8 10 12]]\n"
          ]
        }
      ],
      "source": [
        "a=np.array([(8,9,10),(11,13,15)])\n",
        "b=np.array([(4,5,6),(8,10,12)])\n",
        "print(np.hstack((a,b)))"
      ]
    },
    {
      "cell_type": "code",
      "execution_count": null,
      "metadata": {
        "id": "WvoH6oACAJbZ"
      },
      "outputs": [],
      "source": []
    }
  ],
  "metadata": {
    "colab": {
      "name": "Untitled1.ipynb",
      "provenance": []
    },
    "kernelspec": {
      "display_name": "Python 3.9.6 64-bit",
      "language": "python",
      "name": "python3"
    },
    "language_info": {
      "name": "python",
      "version": "3.9.6"
    },
    "vscode": {
      "interpreter": {
        "hash": "8f8cf99212f81ad0c4765861267244807ee1c18364846cdce387b28994a977ba"
      }
    }
  },
  "nbformat": 4,
  "nbformat_minor": 0
}
